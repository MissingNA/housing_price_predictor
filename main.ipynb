{
 "cells": [
  {
   "cell_type": "markdown",
   "metadata": {},
   "source": [
    "## Data Import and View Settings"
   ]
  },
  {
   "cell_type": "code",
   "execution_count": 1,
   "metadata": {},
   "outputs": [],
   "source": [
    "#Import basic packages\n",
    "import pandas as pd\n",
    "import numpy as np\n",
    "from scipy import stats\n",
    "import matplotlib.pyplot as plt\n",
    "import seaborn as sns\n",
    "\n",
    "#Import model validation and preprocessing packages\n",
    "from sklearn.model_selection import train_test_split, cross_val_score, GridSearchCV\n",
    "from sklearn.preprocessing import StandardScaler, PolynomialFeatures\n",
    "\n",
    "#Import regression, metric, and regularization packages\n",
    "from sklearn.metrics import r2_score, mean_squared_error\n",
    "from sklearn.linear_model import LinearRegression, Ridge, Lasso, ElasticNet, RidgeCV, LassoCV, ElasticNetCV\n",
    "\n",
    "#Set viewing max to 300 variables\n",
    "pd.set_option('display.max_columns', 250)\n",
    "\n",
    "#Reads in the cleaned training data\n",
    "df = pd.read_csv('datasets/train_cleaned_by_mr_clean.csv')\n",
    "\n",
    "# saving a copy of original dataframe\n",
    "originale = df"
   ]
  },
  {
   "cell_type": "code",
   "execution_count": 2,
   "metadata": {},
   "outputs": [],
   "source": [
    "#Removes the three extreme Price by Area outliers in the training set\n",
    "df.drop(959,inplace=True)\n",
    "df.drop(1882,inplace=True)\n",
    "df.drop(125,inplace=True)\n",
    "\n",
    "#Save csv with no outliers\n",
    "df.to_csv('datasets/train_cleaned_by_mr_clean_no_outliers.csv',index=False)\n",
    "#Load the new csv in\n",
    "df = pd.read_csv('datasets/train_cleaned_by_mr_clean_no_outliers.csv')"
   ]
  },
  {
   "cell_type": "code",
   "execution_count": 3,
   "metadata": {},
   "outputs": [],
   "source": [
    "# Setting X and y variables for model\n",
    "y = df['SalePrice']\n",
    "df.drop(['SalePrice','Id'], axis=1, inplace=True)"
   ]
  },
  {
   "cell_type": "markdown",
   "metadata": {},
   "source": [
    "### Feature Engineering "
   ]
  },
  {
   "cell_type": "code",
   "execution_count": 4,
   "metadata": {},
   "outputs": [
    {
     "data": {
      "text/plain": [
       "(2045, 204)"
      ]
     },
     "execution_count": 4,
     "metadata": {},
     "output_type": "execute_result"
    }
   ],
   "source": [
    "#These are the two polynomial features I ended up including.  I decided to just create them manually here.\n",
    "\n",
    "#Interaction between Overall Quality and Above Ground Living Area (sq. ft)\n",
    "df['Overall Qual Gr Liv Area'] = df['Overall Qual'] * df['Gr Liv Area']\n",
    "#Square of Overall Quality\n",
    "df['Overall Qual^2'] = df['Overall Qual'] * df['Overall Qual']\n",
    "\n",
    "#I also engineered a feature for total bathrooms, from full baths and half baths.\n",
    "df['Bathroom Total'] = df['Full Bath'] + (0.5 * df['Half Bath'])\n",
    "\n",
    "#We now have 218 features total.\n",
    "df.shape"
   ]
  },
  {
   "cell_type": "code",
   "execution_count": 5,
   "metadata": {},
   "outputs": [],
   "source": [
    "#Removes the 100 features least correlated with sale price.\n",
    "#Specifically, this code makes a sorted list of the magnitude of all feature correlations with sale price,\n",
    "#drops the 100 smallest correlations, grabs remaining feature names, and condenses feature set to only those features.\n",
    "features_keep = list(abs(df.corrwith(y)).sort_values(ascending=False)[:-100].index)\n",
    "df = df[features_keep]\n",
    "\n",
    "#This additional drop list is based on me then iteratively fitting models and removing features that \n",
    "#failed to meet a threshold for predictive influence (coefficient magnitude) after regularization.\n",
    "df.drop(['Exterior 1st_CemntBd', 'Foundation_CBlock', 'Neighborhood_dummies_Timber', 'Electrical',\n",
    "        'Exterior 2nd_HdBoard', 'Exterior 1st_MetalSd',\n",
    "        'Neighborhood_dummies_NAmes', 'Neighborhood_dummies_BrkSide', 'House Style_2Story', 'MS SubClass_50','Roof Style_Hip',\n",
    "        'Neighborhood_dummies_Sawyer', 'Mas Vnr Type_BrkFace','MS SubClass_60','Foundation_Slab','Exterior 2nd_CmentBd',\n",
    "        'Bedroom AbvGr','Lot Shape','Exterior 2nd_MetalSd','Garage Type_BuiltIn'], axis=1,inplace=True)"
   ]
  },
  {
   "cell_type": "code",
   "execution_count": 6,
   "metadata": {},
   "outputs": [
    {
     "data": {
      "text/plain": [
       "(2045, 84)"
      ]
     },
     "execution_count": 6,
     "metadata": {},
     "output_type": "execute_result"
    }
   ],
   "source": [
    "df.shape"
   ]
  },
  {
   "cell_type": "code",
   "execution_count": 7,
   "metadata": {},
   "outputs": [
    {
     "data": {
      "text/plain": [
       "['Overall Qual Gr Liv Area',\n",
       " 'Overall Qual^2',\n",
       " 'Overall Qual',\n",
       " 'Gr Liv Area',\n",
       " 'Exter Qual 2',\n",
       " 'Exter Qual',\n",
       " 'Kitchen Qual',\n",
       " 'Kitchen Qual 2',\n",
       " 'Total Bsmt SF',\n",
       " 'Garage Area',\n",
       " '1st Flr SF',\n",
       " 'Garage Cars',\n",
       " 'Bsmt Qual',\n",
       " 'Bathroom Total',\n",
       " 'Year Built',\n",
       " 'Garage Finish',\n",
       " 'Garage Yr Blt',\n",
       " 'Year Remod/Add',\n",
       " 'Full Bath',\n",
       " 'Foundation_PConc',\n",
       " 'Mas Vnr Area',\n",
       " 'TotRms AbvGrd',\n",
       " 'Fireplaces',\n",
       " 'Neighborhood_dummies_NridgHt',\n",
       " 'BsmtFin SF 1',\n",
       " 'Heating QC',\n",
       " 'Bsmt Exposure',\n",
       " 'Garage Type_Detchd',\n",
       " 'Sale Type_New',\n",
       " 'BsmtFin Type 1',\n",
       " 'Garage Type_Attchd',\n",
       " 'MS SubClass_60',\n",
       " 'Foundation_CBlock',\n",
       " 'Exterior 1st_VinylSd',\n",
       " 'Exterior 2nd_VinylSd',\n",
       " 'Open Porch SF',\n",
       " 'Wood Deck SF',\n",
       " 'Mas Vnr Type_Stone',\n",
       " 'Lot Area',\n",
       " 'Lot Shape',\n",
       " 'Paved Drive',\n",
       " 'Bsmt Full Bath',\n",
       " 'Half Bath',\n",
       " 'MS Zoning_RM',\n",
       " 'Central Air_Y',\n",
       " 'Garage Qual',\n",
       " 'Roof Style_Hip',\n",
       " 'Neighborhood_dummies_NoRidge',\n",
       " 'Mas Vnr Type_BrkFace',\n",
       " 'Neighborhood_dummies_StoneBr',\n",
       " 'PID',\n",
       " 'Garage Cond',\n",
       " 'Roof Style_Gable',\n",
       " '2nd Flr SF',\n",
       " 'MS SubClass_30',\n",
       " 'Electrical',\n",
       " 'Garage Type_None',\n",
       " 'MS Zoning_RL',\n",
       " 'Garage Type_BuiltIn',\n",
       " 'Sale Type_WD ',\n",
       " 'Land Contour_HLS',\n",
       " 'Bsmt Cond',\n",
       " 'Neighborhood_dummies_OldTown',\n",
       " 'House Style_2Story',\n",
       " 'Exterior 1st_Wd Sdng',\n",
       " 'Bsmt Unf SF',\n",
       " 'Neighborhood_dummies_NAmes',\n",
       " 'Neighborhood_dummies_IDOTRR',\n",
       " 'MS SubClass_50',\n",
       " 'Neighborhood_dummies_Edwards',\n",
       " 'Exterior 2nd_Wd Sdng',\n",
       " 'Exterior 1st_CemntBd',\n",
       " 'Lot Config_CulDSac',\n",
       " 'Exterior 2nd_CmentBd',\n",
       " 'Neighborhood_dummies_Somerst',\n",
       " 'Exterior 1st_MetalSd',\n",
       " 'Exterior 2nd_MetalSd',\n",
       " 'Enclosed Porch',\n",
       " 'Bedroom AbvGr',\n",
       " 'Screen Porch',\n",
       " 'Neighborhood_dummies_Sawyer',\n",
       " 'Neighborhood_dummies_BrkSide',\n",
       " 'Foundation_Slab',\n",
       " 'Functional',\n",
       " 'Kitchen AbvGr',\n",
       " 'Neighborhood_dummies_Timber',\n",
       " 'MS SubClass_160',\n",
       " 'Exterior 1st_HdBoard',\n",
       " 'Bldg Type_Twnhs',\n",
       " 'Condition 1_Feedr',\n",
       " 'Neighborhood_dummies_MeadowV',\n",
       " 'Bldg Type_2fmCon',\n",
       " 'Condition 1_Norm',\n",
       " 'MS SubClass_190',\n",
       " 'Condition 1_PosN',\n",
       " 'MS Zoning_FV',\n",
       " 'MS SubClass_90',\n",
       " 'Bldg Type_Duplex',\n",
       " 'Condition 2_PosN',\n",
       " 'Exterior 2nd_HdBoard',\n",
       " 'Condition 2_PosA',\n",
       " 'MS SubClass_120',\n",
       " 'Roof Matl_WdShngl',\n",
       " 'Overall Cond']"
      ]
     },
     "execution_count": 7,
     "metadata": {},
     "output_type": "execute_result"
    }
   ],
   "source": [
    "features_keep"
   ]
  },
  {
   "cell_type": "code",
   "execution_count": 8,
   "metadata": {},
   "outputs": [],
   "source": [
    "features_keep.remove('Condition 2_PosN')"
   ]
  },
  {
   "cell_type": "markdown",
   "metadata": {},
   "source": [
    "## Model Preparation "
   ]
  },
  {
   "cell_type": "code",
   "execution_count": 9,
   "metadata": {},
   "outputs": [],
   "source": [
    "#Train test split (Random state is set for reproducibility)\n",
    "X_train, X_test, y_train, y_test = train_test_split(df, y, random_state=420)\n",
    "\n",
    "#Standardize data\n",
    "ss = StandardScaler()\n",
    "X_train_sc = ss.fit_transform(X_train)\n",
    "X_test_sc = ss.transform(X_test)"
   ]
  },
  {
   "cell_type": "code",
   "execution_count": 10,
   "metadata": {},
   "outputs": [
    {
     "data": {
      "image/png": "[encoded data removed]",
      "text/plain": [
       "<Figure size 432x288 with 1 Axes>"
      ]
     },
     "metadata": {
      "needs_background": "light"
     },
     "output_type": "display_data"
    }
   ],
   "source": [
    "sns.distplot(y_train);"
   ]
  },
  {
   "cell_type": "code",
   "execution_count": 11,
   "metadata": {},
   "outputs": [
    {
     "data": {
      "image/png": "[encoded data removed]",
      "text/plain": [
       "<Figure size 432x288 with 1 Axes>"
      ]
     },
     "metadata": {
      "needs_background": "light"
     },
     "output_type": "display_data"
    }
   ],
   "source": [
    "sns.distplot(y_test);"
   ]
  },
  {
   "cell_type": "markdown",
   "metadata": {},
   "source": [
    "## Modeling "
   ]
  },
  {
   "cell_type": "markdown",
   "metadata": {},
   "source": [
    "### Baseline Model "
   ]
  },
  {
   "cell_type": "markdown",
   "metadata": {},
   "source": [
    "#### Linear Regression"
   ]
  },
  {
   "cell_type": "code",
   "execution_count": 12,
   "metadata": {},
   "outputs": [
    {
     "data": {
      "text/plain": [
       "0.9332470428715911"
      ]
     },
     "execution_count": 12,
     "metadata": {},
     "output_type": "execute_result"
    }
   ],
   "source": [
    "# instantiate\n",
    "lr = LinearRegression()\n",
    "\n",
    "# fit \n",
    "lr.fit(X_train, y_train)\n",
    "\n",
    "# Train score \n",
    "lr.score(X_train, y_train)\n",
    "\n",
    "# Test score \n",
    "lr.score(X_test, y_test)\n",
    "\n",
    "# Cross val score\n",
    "cross_val_score(lr, X_train, y_train).mean()"
   ]
  },
  {
   "cell_type": "markdown",
   "metadata": {},
   "source": [
    "#### Grid Search with ElasticNet "
   ]
  },
  {
   "cell_type": "code",
   "execution_count": 13,
   "metadata": {},
   "outputs": [
    {
     "name": "stdout",
     "output_type": "stream",
     "text": [
      "Fitting 5 folds for each of 25 candidates, totalling 125 fits\n"
     ]
    },
    {
     "name": "stderr",
     "output_type": "stream",
     "text": [
      "[Parallel(n_jobs=1)]: Using backend SequentialBackend with 1 concurrent workers.\n",
      "/opt/anaconda3/lib/python3.7/site-packages/sklearn/linear_model/_coordinate_descent.py:476: ConvergenceWarning: Objective did not converge. You might want to increase the number of iterations. Duality gap: 277219008026.93744, tolerance: 748709841.7503442\n",
      "  positive)\n",
      "/opt/anaconda3/lib/python3.7/site-packages/sklearn/linear_model/_coordinate_descent.py:476: ConvergenceWarning: Objective did not converge. You might want to increase the number of iterations. Duality gap: 305137257427.0287, tolerance: 783783165.3903155\n",
      "  positive)\n",
      "/opt/anaconda3/lib/python3.7/site-packages/sklearn/linear_model/_coordinate_descent.py:476: ConvergenceWarning: Objective did not converge. You might want to increase the number of iterations. Duality gap: 312118346142.64294, tolerance: 786165179.0818503\n",
      "  positive)\n",
      "/opt/anaconda3/lib/python3.7/site-packages/sklearn/linear_model/_coordinate_descent.py:476: ConvergenceWarning: Objective did not converge. You might want to increase the number of iterations. Duality gap: 299843216670.2763, tolerance: 771147543.7932006\n",
      "  positive)\n",
      "/opt/anaconda3/lib/python3.7/site-packages/sklearn/linear_model/_coordinate_descent.py:476: ConvergenceWarning: Objective did not converge. You might want to increase the number of iterations. Duality gap: 289411018096.6138, tolerance: 751599721.849778\n",
      "  positive)\n",
      "/opt/anaconda3/lib/python3.7/site-packages/sklearn/linear_model/_coordinate_descent.py:476: ConvergenceWarning: Objective did not converge. You might want to increase the number of iterations. Duality gap: 43253187616.81445, tolerance: 748709841.7503442\n",
      "  positive)\n",
      "/opt/anaconda3/lib/python3.7/site-packages/sklearn/linear_model/_coordinate_descent.py:476: ConvergenceWarning: Objective did not converge. You might want to increase the number of iterations. Duality gap: 18315180306.406982, tolerance: 783783165.3903155\n",
      "  positive)\n",
      "/opt/anaconda3/lib/python3.7/site-packages/sklearn/linear_model/_coordinate_descent.py:476: ConvergenceWarning: Objective did not converge. You might want to increase the number of iterations. Duality gap: 67256410616.916565, tolerance: 786165179.0818503\n",
      "  positive)\n",
      "/opt/anaconda3/lib/python3.7/site-packages/sklearn/linear_model/_coordinate_descent.py:476: ConvergenceWarning: Objective did not converge. You might want to increase the number of iterations. Duality gap: 62900276705.156006, tolerance: 771147543.7932006\n",
      "  positive)\n",
      "/opt/anaconda3/lib/python3.7/site-packages/sklearn/linear_model/_coordinate_descent.py:476: ConvergenceWarning: Objective did not converge. You might want to increase the number of iterations. Duality gap: 60161000383.40253, tolerance: 751599721.849778\n",
      "  positive)\n",
      "/opt/anaconda3/lib/python3.7/site-packages/sklearn/linear_model/_coordinate_descent.py:476: ConvergenceWarning: Objective did not converge. You might want to increase the number of iterations. Duality gap: 358840721508.032, tolerance: 748709841.7503442\n",
      "  positive)\n",
      "/opt/anaconda3/lib/python3.7/site-packages/sklearn/linear_model/_coordinate_descent.py:476: ConvergenceWarning: Objective did not converge. You might want to increase the number of iterations. Duality gap: 392099706313.52747, tolerance: 783783165.3903155\n",
      "  positive)\n",
      "/opt/anaconda3/lib/python3.7/site-packages/sklearn/linear_model/_coordinate_descent.py:476: ConvergenceWarning: Objective did not converge. You might want to increase the number of iterations. Duality gap: 401198157242.8091, tolerance: 786165179.0818503\n",
      "  positive)\n",
      "/opt/anaconda3/lib/python3.7/site-packages/sklearn/linear_model/_coordinate_descent.py:476: ConvergenceWarning: Objective did not converge. You might want to increase the number of iterations. Duality gap: 386726542105.812, tolerance: 771147543.7932006\n",
      "  positive)\n",
      "/opt/anaconda3/lib/python3.7/site-packages/sklearn/linear_model/_coordinate_descent.py:476: ConvergenceWarning: Objective did not converge. You might want to increase the number of iterations. Duality gap: 373217945178.71606, tolerance: 751599721.849778\n",
      "  positive)\n",
      "/opt/anaconda3/lib/python3.7/site-packages/sklearn/linear_model/_coordinate_descent.py:476: ConvergenceWarning: Objective did not converge. You might want to increase the number of iterations. Duality gap: 24055815570.95041, tolerance: 748709841.7503442\n",
      "  positive)\n",
      "/opt/anaconda3/lib/python3.7/site-packages/sklearn/linear_model/_coordinate_descent.py:476: ConvergenceWarning: Objective did not converge. You might want to increase the number of iterations. Duality gap: 17176760991.196411, tolerance: 783783165.3903155\n",
      "  positive)\n",
      "/opt/anaconda3/lib/python3.7/site-packages/sklearn/linear_model/_coordinate_descent.py:476: ConvergenceWarning: Objective did not converge. You might want to increase the number of iterations. Duality gap: 66140977657.07532, tolerance: 786165179.0818503\n",
      "  positive)\n",
      "/opt/anaconda3/lib/python3.7/site-packages/sklearn/linear_model/_coordinate_descent.py:476: ConvergenceWarning: Objective did not converge. You might want to increase the number of iterations. Duality gap: 63058100202.60901, tolerance: 771147543.7932006\n",
      "  positive)\n",
      "/opt/anaconda3/lib/python3.7/site-packages/sklearn/linear_model/_coordinate_descent.py:476: ConvergenceWarning: Objective did not converge. You might want to increase the number of iterations. Duality gap: 60677307936.13562, tolerance: 751599721.849778\n",
      "  positive)\n",
      "/opt/anaconda3/lib/python3.7/site-packages/sklearn/linear_model/_coordinate_descent.py:476: ConvergenceWarning: Objective did not converge. You might want to increase the number of iterations. Duality gap: 425044865510.76953, tolerance: 748709841.7503442\n",
      "  positive)\n",
      "/opt/anaconda3/lib/python3.7/site-packages/sklearn/linear_model/_coordinate_descent.py:476: ConvergenceWarning: Objective did not converge. You might want to increase the number of iterations. Duality gap: 462409112157.8236, tolerance: 783783165.3903155\n",
      "  positive)\n",
      "/opt/anaconda3/lib/python3.7/site-packages/sklearn/linear_model/_coordinate_descent.py:476: ConvergenceWarning: Objective did not converge. You might want to increase the number of iterations. Duality gap: 472683001141.1084, tolerance: 786165179.0818503\n",
      "  positive)\n",
      "/opt/anaconda3/lib/python3.7/site-packages/sklearn/linear_model/_coordinate_descent.py:476: ConvergenceWarning: Objective did not converge. You might want to increase the number of iterations. Duality gap: 456961908915.96375, tolerance: 771147543.7932006\n",
      "  positive)\n",
      "/opt/anaconda3/lib/python3.7/site-packages/sklearn/linear_model/_coordinate_descent.py:476: ConvergenceWarning: Objective did not converge. You might want to increase the number of iterations. Duality gap: 440879112863.6315, tolerance: 751599721.849778\n",
      "  positive)\n",
      "/opt/anaconda3/lib/python3.7/site-packages/sklearn/linear_model/_coordinate_descent.py:476: ConvergenceWarning: Objective did not converge. You might want to increase the number of iterations. Duality gap: 20946147145.500366, tolerance: 748709841.7503442\n",
      "  positive)\n",
      "/opt/anaconda3/lib/python3.7/site-packages/sklearn/linear_model/_coordinate_descent.py:476: ConvergenceWarning: Objective did not converge. You might want to increase the number of iterations. Duality gap: 16972308789.322144, tolerance: 783783165.3903155\n",
      "  positive)\n",
      "/opt/anaconda3/lib/python3.7/site-packages/sklearn/linear_model/_coordinate_descent.py:476: ConvergenceWarning: Objective did not converge. You might want to increase the number of iterations. Duality gap: 65956153736.88895, tolerance: 786165179.0818503\n",
      "  positive)\n",
      "/opt/anaconda3/lib/python3.7/site-packages/sklearn/linear_model/_coordinate_descent.py:476: ConvergenceWarning: Objective did not converge. You might want to increase the number of iterations. Duality gap: 63129189314.562225, tolerance: 771147543.7932006\n",
      "  positive)\n",
      "/opt/anaconda3/lib/python3.7/site-packages/sklearn/linear_model/_coordinate_descent.py:476: ConvergenceWarning: Objective did not converge. You might want to increase the number of iterations. Duality gap: 60819902277.490845, tolerance: 751599721.849778\n",
      "  positive)\n",
      "/opt/anaconda3/lib/python3.7/site-packages/sklearn/linear_model/_coordinate_descent.py:476: ConvergenceWarning: Objective did not converge. You might want to increase the number of iterations. Duality gap: 563815351548.2405, tolerance: 748709841.7503442\n",
      "  positive)\n",
      "/opt/anaconda3/lib/python3.7/site-packages/sklearn/linear_model/_coordinate_descent.py:476: ConvergenceWarning: Objective did not converge. You might want to increase the number of iterations. Duality gap: 609243402242.887, tolerance: 783783165.3903155\n",
      "  positive)\n",
      "/opt/anaconda3/lib/python3.7/site-packages/sklearn/linear_model/_coordinate_descent.py:476: ConvergenceWarning: Objective did not converge. You might want to increase the number of iterations. Duality gap: 621177780250.5891, tolerance: 786165179.0818503\n",
      "  positive)\n"
     ]
    },
    {
     "name": "stderr",
     "output_type": "stream",
     "text": [
      "/opt/anaconda3/lib/python3.7/site-packages/sklearn/linear_model/_coordinate_descent.py:476: ConvergenceWarning: Objective did not converge. You might want to increase the number of iterations. Duality gap: 603289596037.6412, tolerance: 771147543.7932006\n",
      "  positive)\n",
      "/opt/anaconda3/lib/python3.7/site-packages/sklearn/linear_model/_coordinate_descent.py:476: ConvergenceWarning: Objective did not converge. You might want to increase the number of iterations. Duality gap: 582399887314.045, tolerance: 751599721.849778\n",
      "  positive)\n",
      "/opt/anaconda3/lib/python3.7/site-packages/sklearn/linear_model/_coordinate_descent.py:476: ConvergenceWarning: Objective did not converge. You might want to increase the number of iterations. Duality gap: 18668940286.190857, tolerance: 748709841.7503442\n",
      "  positive)\n",
      "/opt/anaconda3/lib/python3.7/site-packages/sklearn/linear_model/_coordinate_descent.py:476: ConvergenceWarning: Objective did not converge. You might want to increase the number of iterations. Duality gap: 16865563498.538513, tolerance: 783783165.3903155\n",
      "  positive)\n",
      "/opt/anaconda3/lib/python3.7/site-packages/sklearn/linear_model/_coordinate_descent.py:476: ConvergenceWarning: Objective did not converge. You might want to increase the number of iterations. Duality gap: 65902186032.62131, tolerance: 786165179.0818503\n",
      "  positive)\n",
      "/opt/anaconda3/lib/python3.7/site-packages/sklearn/linear_model/_coordinate_descent.py:476: ConvergenceWarning: Objective did not converge. You might want to increase the number of iterations. Duality gap: 63266668231.89435, tolerance: 771147543.7932006\n",
      "  positive)\n",
      "/opt/anaconda3/lib/python3.7/site-packages/sklearn/linear_model/_coordinate_descent.py:476: ConvergenceWarning: Objective did not converge. You might want to increase the number of iterations. Duality gap: 61011143830.1582, tolerance: 751599721.849778\n",
      "  positive)\n",
      "/opt/anaconda3/lib/python3.7/site-packages/sklearn/linear_model/_coordinate_descent.py:476: ConvergenceWarning: Objective did not converge. You might want to increase the number of iterations. Duality gap: 1260287623718.6118, tolerance: 748709841.7503442\n",
      "  positive)\n",
      "/opt/anaconda3/lib/python3.7/site-packages/sklearn/linear_model/_coordinate_descent.py:476: ConvergenceWarning: Objective did not converge. You might want to increase the number of iterations. Duality gap: 1340475825996.9253, tolerance: 783783165.3903155\n",
      "  positive)\n",
      "/opt/anaconda3/lib/python3.7/site-packages/sklearn/linear_model/_coordinate_descent.py:476: ConvergenceWarning: Objective did not converge. You might want to increase the number of iterations. Duality gap: 1356000619335.6064, tolerance: 786165179.0818503\n",
      "  positive)\n",
      "/opt/anaconda3/lib/python3.7/site-packages/sklearn/linear_model/_coordinate_descent.py:476: ConvergenceWarning: Objective did not converge. You might want to increase the number of iterations. Duality gap: 1327345219948.7559, tolerance: 771147543.7932006\n",
      "  positive)\n",
      "/opt/anaconda3/lib/python3.7/site-packages/sklearn/linear_model/_coordinate_descent.py:476: ConvergenceWarning: Objective did not converge. You might want to increase the number of iterations. Duality gap: 1287954528677.682, tolerance: 751599721.849778\n",
      "  positive)\n",
      "[Parallel(n_jobs=1)]: Done 125 out of 125 | elapsed:    3.4s finished\n"
     ]
    },
    {
     "data": {
      "text/plain": [
       "GridSearchCV(cv=5, error_score=nan,\n",
       "             estimator=ElasticNet(alpha=1.0, copy_X=True, fit_intercept=True,\n",
       "                                  l1_ratio=0.5, max_iter=1000, normalize=False,\n",
       "                                  positive=False, precompute=False,\n",
       "                                  random_state=None, selection='cyclic',\n",
       "                                  tol=0.0001, warm_start=False),\n",
       "             iid='deprecated', n_jobs=None,\n",
       "             param_grid={'alpha': [0.1, 0.3, 0.5, 1, 5],\n",
       "                         'l1_ratio': [0, 0.3, 0.5, 0.7, 1]},\n",
       "             pre_dispatch='2*n_jobs', refit=True, return_train_score=False,\n",
       "             scoring=None, verbose=1)"
      ]
     },
     "execution_count": 13,
     "metadata": {},
     "output_type": "execute_result"
    }
   ],
   "source": [
    "#Specify desired values to try for each hyperparameter\n",
    "param_grid_1 = {\n",
    "    'alpha':[.1,.3,.5,1,5],\n",
    "    'l1_ratio':[0,.3,.5,.7,1]\n",
    "}\n",
    "\n",
    "#Instantiate GridSearchCV with ElasticNet, the parameter values, and 5-fold CV.\n",
    "gs = GridSearchCV(ElasticNet(),param_grid_1,cv=5,verbose=1)\n",
    "\n",
    "#Fitting with the scaled X_train and the transformed y_train\n",
    "gs.fit(X_train_sc,y_train)"
   ]
  },
  {
   "cell_type": "code",
   "execution_count": 14,
   "metadata": {},
   "outputs": [
    {
     "data": {
      "text/plain": [
       "{'alpha': 5, 'l1_ratio': 1}"
      ]
     },
     "execution_count": 14,
     "metadata": {},
     "output_type": "execute_result"
    }
   ],
   "source": [
    "#Returns the best parameters\n",
    "gs.best_params_"
   ]
  },
  {
   "cell_type": "code",
   "execution_count": 15,
   "metadata": {},
   "outputs": [
    {
     "data": {
      "text/plain": [
       "0.9333519169869644"
      ]
     },
     "execution_count": 15,
     "metadata": {},
     "output_type": "execute_result"
    }
   ],
   "source": [
    "#Returns the R2 score of the best parameters\n",
    "gs.best_score_"
   ]
  },
  {
   "cell_type": "code",
   "execution_count": 16,
   "metadata": {},
   "outputs": [
    {
     "data": {
      "text/plain": [
       "0.9194034635514323"
      ]
     },
     "execution_count": 16,
     "metadata": {},
     "output_type": "execute_result"
    }
   ],
   "source": [
    "gs.score(X_test_sc,y_test)"
   ]
  },
  {
   "cell_type": "code",
   "execution_count": 17,
   "metadata": {},
   "outputs": [
    {
     "data": {
      "text/plain": [
       "Overall Qual Gr Liv Area        48952.194757\n",
       "Overall Qual                   -27992.833612\n",
       "Overall Qual^2                  18993.121528\n",
       "Gr Liv Area                    -15244.669868\n",
       "Kitchen Qual                     9913.604163\n",
       "1st Flr SF                       9183.275352\n",
       "Exter Qual                       9132.035286\n",
       "Total Bsmt SF                    8284.254282\n",
       "Year Built                       7860.297924\n",
       "BsmtFin SF 1                     7446.658834\n",
       "Overall Cond                     6477.657031\n",
       "Garage Type_None                 6445.347631\n",
       "2nd Flr SF                       5987.923976\n",
       "Kitchen Qual 2                  -5507.532295\n",
       "Neighborhood_dummies_NridgHt     5184.751765\n",
       "MS Zoning_RL                     4908.736666\n",
       "Exter Qual 2                    -4617.493035\n",
       "Neighborhood_dummies_StoneBr     4424.487197\n",
       "Lot Area                         4186.104623\n",
       "Functional                      -3682.631811\n",
       "MS Zoning_RM                     3647.533271\n",
       "Neighborhood_dummies_Somerst     3498.529124\n",
       "Exterior 1st_Wd Sdng            -3411.554913\n",
       "Garage Type_Detchd               3268.031853\n",
       "Sale Type_New                    3224.927290\n",
       "Name: Coefficients, dtype: float64"
      ]
     },
     "execution_count": 17,
     "metadata": {},
     "output_type": "execute_result"
    }
   ],
   "source": [
    "#creates table of all feature variables and their model coefficients\n",
    "coef_table = pd.DataFrame(gs.best_estimator_.coef_, index=X_train.columns, columns=['Coefficients'])\n",
    "#creates column with coefficient magnitudes\n",
    "coef_table['Magnitude']=abs(coef_table['Coefficients'])\n",
    "#sorts features by coefficient magnitude (i.e.; predictive power) and shows top 25 most influential features\n",
    "coef_table.sort_values('Magnitude',ascending=False).head(25)['Coefficients']"
   ]
  },
  {
   "cell_type": "code",
   "execution_count": null,
   "metadata": {},
   "outputs": [],
   "source": []
  },
  {
   "cell_type": "markdown",
   "metadata": {},
   "source": [
    "### Model Selection "
   ]
  },
  {
   "cell_type": "code",
   "execution_count": null,
   "metadata": {},
   "outputs": [],
   "source": []
  },
  {
   "cell_type": "markdown",
   "metadata": {},
   "source": [
    "### Model Evaluation"
   ]
  },
  {
   "cell_type": "code",
   "execution_count": 18,
   "metadata": {},
   "outputs": [
    {
     "data": {
      "image/png": "[encoded data removed]",
      "text/plain": [
       "<Figure size 720x576 with 1 Axes>"
      ]
     },
     "metadata": {
      "needs_background": "light"
     },
     "output_type": "display_data"
    }
   ],
   "source": [
    "#Generates a list of the model's predictions for the test bloc\n",
    "preds = gs.predict(X_test_sc)\n",
    "\n",
    "#Plots predicted values against actual values in the train/test split.\n",
    "plt.figure(figsize=(10,8))\n",
    "plt.scatter(preds, y_test, marker = '+')\n",
    "plt.xlabel('Predicted values')\n",
    "plt.ylabel('Actual values')\n",
    "\n",
    "#Plots x=y line\n",
    "plt.plot([0,np.max(y_test)],[0,np.max(y_test)], c = 'orange');"
   ]
  },
  {
   "cell_type": "code",
   "execution_count": 19,
   "metadata": {},
   "outputs": [
    {
     "data": {
      "text/plain": [
       "0.9381847800011716"
      ]
     },
     "execution_count": 19,
     "metadata": {},
     "output_type": "execute_result"
    }
   ],
   "source": [
    "#Initializes model for whole training set\n",
    "gs_full_trainset = gs.best_estimator_\n",
    "#Applies StandardScaler normalization to whole training set\n",
    "X_sc = ss.fit_transform(df)\n",
    "\n",
    "#Re-fits the model\n",
    "gs_full_trainset.fit(X_sc, y)\n",
    "#Scores the model (training score only, of course)\n",
    "gs_full_trainset.score(X_sc, y)"
   ]
  },
  {
   "cell_type": "markdown",
   "metadata": {},
   "source": [
    "## Kaggle Submission "
   ]
  },
  {
   "cell_type": "code",
   "execution_count": 20,
   "metadata": {},
   "outputs": [
    {
     "data": {
      "text/plain": [
       "(2045, 84)"
      ]
     },
     "execution_count": 20,
     "metadata": {},
     "output_type": "execute_result"
    }
   ],
   "source": [
    "df.shape"
   ]
  },
  {
   "cell_type": "code",
   "execution_count": 22,
   "metadata": {},
   "outputs": [
    {
     "data": {
      "text/html": [
       "<div>\n",
       "<style scoped>\n",
       "    .dataframe tbody tr th:only-of-type {\n",
       "        vertical-align: middle;\n",
       "    }\n",
       "\n",
       "    .dataframe tbody tr th {\n",
       "        vertical-align: top;\n",
       "    }\n",
       "\n",
       "    .dataframe thead th {\n",
       "        text-align: right;\n",
       "    }\n",
       "</style>\n",
       "<table border=\"1\" class=\"dataframe\">\n",
       "  <thead>\n",
       "    <tr style=\"text-align: right;\">\n",
       "      <th></th>\n",
       "      <th>Id</th>\n",
       "      <th>SalePrice</th>\n",
       "    </tr>\n",
       "  </thead>\n",
       "  <tbody>\n",
       "    <tr>\n",
       "      <th>0</th>\n",
       "      <td>2658</td>\n",
       "      <td>139631.487556</td>\n",
       "    </tr>\n",
       "    <tr>\n",
       "      <th>1</th>\n",
       "      <td>2718</td>\n",
       "      <td>120810.537682</td>\n",
       "    </tr>\n",
       "    <tr>\n",
       "      <th>2</th>\n",
       "      <td>2414</td>\n",
       "      <td>184868.304531</td>\n",
       "    </tr>\n",
       "    <tr>\n",
       "      <th>3</th>\n",
       "      <td>1989</td>\n",
       "      <td>78287.694693</td>\n",
       "    </tr>\n",
       "    <tr>\n",
       "      <th>4</th>\n",
       "      <td>625</td>\n",
       "      <td>157171.376775</td>\n",
       "    </tr>\n",
       "  </tbody>\n",
       "</table>\n",
       "</div>"
      ],
      "text/plain": [
       "     Id      SalePrice\n",
       "0  2658  139631.487556\n",
       "1  2718  120810.537682\n",
       "2  2414  184868.304531\n",
       "3  1989   78287.694693\n",
       "4   625  157171.376775"
      ]
     },
     "execution_count": 22,
     "metadata": {},
     "output_type": "execute_result"
    }
   ],
   "source": [
    "#Load in the Kaggle test set with cleaning changes applied\n",
    "test = pd.read_csv('datasets/test_cleaned_by_mr_clean.csv')\n",
    "\n",
    "#Drops Id column like we did earlier to the training set.  \n",
    "#Recall that there is no SalePrice info in the test set.\n",
    "test.drop('Id',axis=1,inplace=True)\n",
    "\n",
    "#Apply feature engineering changes to test set (This layout allows easy iterative manipulation)\n",
    "def apply_changes_test(df):\n",
    "    df['Overall Qual Gr Liv Area'] = df['Overall Qual'] * df['Gr Liv Area']\n",
    "    df['Overall Qual^2'] = df['Overall Qual'] * df['Overall Qual']\n",
    "    df['Bathroom Total'] = df['Full Bath'] + (0.5 * df['Half Bath'])\n",
    "\n",
    "apply_changes_test(test)\n",
    "\n",
    "#Apply feature elimination changes to test set\n",
    "test = test[features_keep]\n",
    "test.drop(['Exterior 1st_CemntBd', 'Foundation_CBlock', 'Electrical',\n",
    "            'Exterior 2nd_HdBoard', 'Exterior 1st_MetalSd', 'Neighborhood_dummies_Sawyer',\n",
    "            'House Style_2Story', 'MS SubClass_50','Roof Style_Hip', \n",
    "            'Mas Vnr Type_BrkFace','MS SubClass_60','Foundation_Slab','Exterior 2nd_CmentBd',\n",
    "            'Bedroom AbvGr','Lot Shape','Exterior 2nd_MetalSd','Garage Type_BuiltIn',\n",
    "            'Neighborhood_dummies_BrkSide','Neighborhood_dummies_NAmes'], axis=1,inplace=True)\n",
    "\n",
    "# common_cols = [columns for columns in set(test.columns).intersection(df.columns)]\n",
    "# test = test[common_cols]\n",
    "\n",
    "#Scale test set\n",
    "test_sc = ss.transform(test)\n",
    "\n",
    "#Generate model predictions for test set\n",
    "predictions = gs_full_trainset.predict(test_sc)\n",
    "\n",
    "#Create submission csv in proper format\n",
    "test['SalePrice'] = predictions\n",
    "testfile = pd.read_csv('datasets/test_cleaned_by_mr_clean.csv')\n",
    "test['Id'] = testfile['Id']\n",
    "submission = test[['Id','SalePrice']]\n",
    "submission.to_csv('./datasets/kaggle_submission.csv',index=False)\n",
    "\n",
    "#View submission\n",
    "submission.head()"
   ]
  },
  {
   "cell_type": "code",
   "execution_count": null,
   "metadata": {},
   "outputs": [],
   "source": [
    "df.shape"
   ]
  },
  {
   "cell_type": "code",
   "execution_count": null,
   "metadata": {},
   "outputs": [],
   "source": [
    "test.info()"
   ]
  },
  {
   "cell_type": "code",
   "execution_count": null,
   "metadata": {},
   "outputs": [],
   "source": []
  },
  {
   "cell_type": "code",
   "execution_count": null,
   "metadata": {},
   "outputs": [],
   "source": []
  },
  {
   "cell_type": "markdown",
   "metadata": {},
   "source": [
    "## Conclusion and Recommendations"
   ]
  },
  {
   "cell_type": "markdown",
   "metadata": {},
   "source": [
    "## References "
   ]
  },
  {
   "cell_type": "code",
   "execution_count": null,
   "metadata": {},
   "outputs": [],
   "source": []
  }
 ],
 "metadata": {
  "kernelspec": {
   "display_name": "Python 3",
   "language": "python",
   "name": "python3"
  },
  "language_info": {
   "codemirror_mode": {
    "name": "ipython",
    "version": 3
   },
   "file_extension": ".py",
   "mimetype": "text/x-python",
   "name": "python",
   "nbconvert_exporter": "python",
   "pygments_lexer": "ipython3",
   "version": "3.7.6"
  }
 },
 "nbformat": 4,
 "nbformat_minor": 4
}
