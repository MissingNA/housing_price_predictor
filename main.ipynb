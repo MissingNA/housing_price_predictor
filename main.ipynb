{
 "cells": [
  {
   "cell_type": "markdown",
   "metadata": {},
   "source": [
    "## Data Import and View Settings"
   ]
  },
  {
   "cell_type": "code",
   "execution_count": 1,
   "metadata": {},
   "outputs": [],
   "source": [
    "#Import basic packages\n",
    "import pandas as pd\n",
    "import numpy as np\n",
    "from scipy import stats\n",
    "import matplotlib.pyplot as plt\n",
    "import seaborn as sns\n",
    "\n",
    "#Import model validation and preprocessing packages\n",
    "from sklearn.model_selection import train_test_split, cross_val_score, GridSearchCV\n",
    "from sklearn.preprocessing import StandardScaler, PolynomialFeatures\n",
    "\n",
    "#Import regression, metric, and regularization packages\n",
    "from sklearn.metrics import r2_score, mean_squared_error\n",
    "from sklearn.linear_model import LinearRegression, Ridge, Lasso, ElasticNet, RidgeCV, LassoCV, ElasticNetCV\n",
    "\n",
    "#Set viewing max to 300 variables\n",
    "pd.set_option('display.max_columns', 250)\n",
    "\n",
    "#Reads in the cleaned training data\n",
    "df = pd.read_csv('datasets/train_cleaned_by_mr_clean.csv')\n",
    "\n",
    "# saving a copy of original dataframe\n",
    "originale = df"
   ]
  },
  {
   "cell_type": "code",
   "execution_count": 2,
   "metadata": {},
   "outputs": [],
   "source": [
    "#Removes the three extreme Price by Area outliers in the training set\n",
    "df.drop(959,inplace=True)\n",
    "df.drop(1882,inplace=True)\n",
    "df.drop(125,inplace=True)\n",
    "\n",
    "#Save csv with no outliers\n",
    "df.to_csv('datasets/train_cleaned_by_mr_clean_no_outliers.csv',index=False)\n",
    "#Load the new csv in\n",
    "df = pd.read_csv('datasets/train_cleaned_by_mr_clean_no_outliers.csv')"
   ]
  },
  {
   "cell_type": "code",
   "execution_count": 3,
   "metadata": {},
   "outputs": [],
   "source": [
    "# Setting X and y variables for model\n",
    "y = df['SalePrice']\n",
    "df.drop(['SalePrice','Id'], axis=1, inplace=True)"
   ]
  },
  {
   "cell_type": "markdown",
   "metadata": {},
   "source": [
    "### Feature Engineering "
   ]
  },
  {
   "cell_type": "code",
   "execution_count": 4,
   "metadata": {},
   "outputs": [
    {
     "data": {
      "text/plain": [
       "(2045, 204)"
      ]
     },
     "execution_count": 4,
     "metadata": {},
     "output_type": "execute_result"
    }
   ],
   "source": [
    "#These are the two polynomial features I ended up including.  I decided to just create them manually here.\n",
    "\n",
    "#Interaction between Overall Quality and Above Ground Living Area (sq. ft)\n",
    "df['Overall Qual Gr Liv Area'] = df['Overall Qual'] * df['Gr Liv Area']\n",
    "#Square of Overall Quality\n",
    "df['Overall Qual^2'] = df['Overall Qual'] * df['Overall Qual']\n",
    "\n",
    "#I also engineered a feature for total bathrooms, from full baths and half baths.\n",
    "df['Bathroom Total'] = df['Full Bath'] + (0.5 * df['Half Bath'])\n",
    "\n",
    "#We now have 218 features total.\n",
    "df.shape"
   ]
  },
  {
   "cell_type": "code",
   "execution_count": 5,
   "metadata": {},
   "outputs": [],
   "source": [
    "#Removes the 100 features least correlated with sale price.\n",
    "#Specifically, this code makes a sorted list of the magnitude of all feature correlations with sale price,\n",
    "#drops the 100 smallest correlations, grabs remaining feature names, and condenses feature set to only those features.\n",
    "features_keep = list(abs(df.corrwith(y)).sort_values(ascending=False)[:-100].index)\n",
    "df = df[features_keep]\n",
    "\n",
    "#This additional drop list is based on me then iteratively fitting models and removing features that \n",
    "#failed to meet a threshold for predictive influence (coefficient magnitude) after regularization.\n",
    "df.drop(['Exterior 1st_CemntBd', 'Foundation_CBlock', 'Neighborhood_dummies_Timber', 'Electrical',\n",
    "        'Exterior 2nd_HdBoard', 'Exterior 1st_MetalSd',\n",
    "        'Neighborhood_dummies_NAmes', 'Neighborhood_dummies_BrkSide', 'House Style_2Story', 'MS SubClass_50','Roof Style_Hip',\n",
    "        'Neighborhood_dummies_Sawyer', 'Mas Vnr Type_BrkFace','MS SubClass_60','Foundation_Slab','Exterior 2nd_CmentBd',\n",
    "        'Bedroom AbvGr','Lot Shape','Exterior 2nd_MetalSd','Garage Type_BuiltIn'], axis=1,inplace=True)"
   ]
  },
  {
   "cell_type": "code",
   "execution_count": 6,
   "metadata": {},
   "outputs": [
    {
     "data": {
      "text/plain": [
       "(2045, 84)"
      ]
     },
     "execution_count": 6,
     "metadata": {},
     "output_type": "execute_result"
    }
   ],
   "source": [
    "df.shape"
   ]
  },
  {
   "cell_type": "code",
   "execution_count": 7,
   "metadata": {},
   "outputs": [
    {
     "data": {
      "text/plain": [
       "['Overall Qual Gr Liv Area',\n",
       " 'Overall Qual^2',\n",
       " 'Overall Qual',\n",
       " 'Gr Liv Area',\n",
       " 'Exter Qual 2',\n",
       " 'Exter Qual',\n",
       " 'Kitchen Qual',\n",
       " 'Kitchen Qual 2',\n",
       " 'Total Bsmt SF',\n",
       " 'Garage Area',\n",
       " '1st Flr SF',\n",
       " 'Garage Cars',\n",
       " 'Bsmt Qual',\n",
       " 'Bathroom Total',\n",
       " 'Year Built',\n",
       " 'Garage Finish',\n",
       " 'Garage Yr Blt',\n",
       " 'Year Remod/Add',\n",
       " 'Full Bath',\n",
       " 'Foundation_PConc',\n",
       " 'Mas Vnr Area',\n",
       " 'TotRms AbvGrd',\n",
       " 'Fireplaces',\n",
       " 'Neighborhood_dummies_NridgHt',\n",
       " 'BsmtFin SF 1',\n",
       " 'Heating QC',\n",
       " 'Bsmt Exposure',\n",
       " 'Garage Type_Detchd',\n",
       " 'Sale Type_New',\n",
       " 'BsmtFin Type 1',\n",
       " 'Garage Type_Attchd',\n",
       " 'MS SubClass_60',\n",
       " 'Foundation_CBlock',\n",
       " 'Exterior 1st_VinylSd',\n",
       " 'Exterior 2nd_VinylSd',\n",
       " 'Open Porch SF',\n",
       " 'Wood Deck SF',\n",
       " 'Mas Vnr Type_Stone',\n",
       " 'Lot Area',\n",
       " 'Lot Shape',\n",
       " 'Paved Drive',\n",
       " 'Bsmt Full Bath',\n",
       " 'Half Bath',\n",
       " 'MS Zoning_RM',\n",
       " 'Central Air_Y',\n",
       " 'Garage Qual',\n",
       " 'Roof Style_Hip',\n",
       " 'Neighborhood_dummies_NoRidge',\n",
       " 'Mas Vnr Type_BrkFace',\n",
       " 'Neighborhood_dummies_StoneBr',\n",
       " 'PID',\n",
       " 'Garage Cond',\n",
       " 'Roof Style_Gable',\n",
       " '2nd Flr SF',\n",
       " 'MS SubClass_30',\n",
       " 'Electrical',\n",
       " 'Garage Type_None',\n",
       " 'MS Zoning_RL',\n",
       " 'Garage Type_BuiltIn',\n",
       " 'Sale Type_WD ',\n",
       " 'Land Contour_HLS',\n",
       " 'Bsmt Cond',\n",
       " 'Neighborhood_dummies_OldTown',\n",
       " 'House Style_2Story',\n",
       " 'Exterior 1st_Wd Sdng',\n",
       " 'Bsmt Unf SF',\n",
       " 'Neighborhood_dummies_NAmes',\n",
       " 'Neighborhood_dummies_IDOTRR',\n",
       " 'MS SubClass_50',\n",
       " 'Neighborhood_dummies_Edwards',\n",
       " 'Exterior 2nd_Wd Sdng',\n",
       " 'Exterior 1st_CemntBd',\n",
       " 'Lot Config_CulDSac',\n",
       " 'Exterior 2nd_CmentBd',\n",
       " 'Neighborhood_dummies_Somerst',\n",
       " 'Exterior 1st_MetalSd',\n",
       " 'Exterior 2nd_MetalSd',\n",
       " 'Enclosed Porch',\n",
       " 'Bedroom AbvGr',\n",
       " 'Screen Porch',\n",
       " 'Neighborhood_dummies_Sawyer',\n",
       " 'Neighborhood_dummies_BrkSide',\n",
       " 'Foundation_Slab',\n",
       " 'Functional',\n",
       " 'Kitchen AbvGr',\n",
       " 'Neighborhood_dummies_Timber',\n",
       " 'MS SubClass_160',\n",
       " 'Exterior 1st_HdBoard',\n",
       " 'Bldg Type_Twnhs',\n",
       " 'Condition 1_Feedr',\n",
       " 'Neighborhood_dummies_MeadowV',\n",
       " 'Bldg Type_2fmCon',\n",
       " 'Condition 1_Norm',\n",
       " 'MS SubClass_190',\n",
       " 'Condition 1_PosN',\n",
       " 'MS Zoning_FV',\n",
       " 'MS SubClass_90',\n",
       " 'Bldg Type_Duplex',\n",
       " 'Condition 2_PosN',\n",
       " 'Exterior 2nd_HdBoard',\n",
       " 'Condition 2_PosA',\n",
       " 'MS SubClass_120',\n",
       " 'Roof Matl_WdShngl',\n",
       " 'Overall Cond']"
      ]
     },
     "execution_count": 7,
     "metadata": {},
     "output_type": "execute_result"
    }
   ],
   "source": [
    "features_keep"
   ]
  },
  {
   "cell_type": "code",
   "execution_count": 8,
   "metadata": {},
   "outputs": [],
   "source": [
    "features_keep.remove('Condition 2_PosN')"
   ]
  },
  {
   "cell_type": "markdown",
   "metadata": {},
   "source": [
    "## Model Preparation "
   ]
  },
  {
   "cell_type": "code",
   "execution_count": 9,
   "metadata": {},
   "outputs": [],
   "source": [
    "#Train test split (Random state is set for reproducibility)\n",
    "X_train, X_test, y_train, y_test = train_test_split(df, y, random_state=42)\n",
    "\n",
    "#Standardize data\n",
    "ss = StandardScaler()\n",
    "X_train_sc = ss.fit_transform(X_train)\n",
    "X_test_sc = ss.transform(X_test)"
   ]
  },
  {
   "cell_type": "code",
   "execution_count": 10,
   "metadata": {},
   "outputs": [
    {
     "data": {
      "image/png": "[encoded data removed]",
      "text/plain": [
       "<Figure size 432x288 with 1 Axes>"
      ]
     },
     "metadata": {
      "needs_background": "light"
     },
     "output_type": "display_data"
    }
   ],
   "source": [
    "sns.distplot(y_train);"
   ]
  },
  {
   "cell_type": "code",
   "execution_count": 11,
   "metadata": {},
   "outputs": [
    {
     "data": {
      "image/png": "[encoded data removed]",
      "text/plain": [
       "<Figure size 432x288 with 1 Axes>"
      ]
     },
     "metadata": {
      "needs_background": "light"
     },
     "output_type": "display_data"
    }
   ],
   "source": [
    "sns.distplot(y_test);"
   ]
  },
  {
   "cell_type": "markdown",
   "metadata": {},
   "source": [
    "## Modeling "
   ]
  },
  {
   "cell_type": "markdown",
   "metadata": {},
   "source": [
    "### Baseline Model "
   ]
  },
  {
   "cell_type": "markdown",
   "metadata": {},
   "source": [
    "#### Linear Regression"
   ]
  },
  {
   "cell_type": "code",
   "execution_count": 12,
   "metadata": {},
   "outputs": [],
   "source": [
    "# instantiate\n",
    "lr = LinearRegression()"
   ]
  },
  {
   "cell_type": "code",
   "execution_count": 13,
   "metadata": {},
   "outputs": [
    {
     "data": {
      "text/plain": [
       "LinearRegression(copy_X=True, fit_intercept=True, n_jobs=None, normalize=False)"
      ]
     },
     "execution_count": 13,
     "metadata": {},
     "output_type": "execute_result"
    }
   ],
   "source": [
    "# fit \n",
    "lr.fit(X_train_sc, y_train)"
   ]
  },
  {
   "cell_type": "code",
   "execution_count": 14,
   "metadata": {},
   "outputs": [
    {
     "name": "stdout",
     "output_type": "stream",
     "text": [
      "Train R2 Score: 0.9399137238667942\n",
      "Test R2 Score: 0.9271726716379765\n"
     ]
    }
   ],
   "source": [
    "# Train score \n",
    "print('Train R2 Score:', lr.score(X_train_sc, y_train))\n",
    "\n",
    "# Test score \n",
    "print('Test R2 Score:', lr.score(X_test_sc, y_test))"
   ]
  },
  {
   "cell_type": "code",
   "execution_count": 15,
   "metadata": {},
   "outputs": [
    {
     "data": {
      "text/plain": [
       "0.9284408048390205"
      ]
     },
     "execution_count": 15,
     "metadata": {},
     "output_type": "execute_result"
    }
   ],
   "source": [
    "# Cross val score\n",
    "cross_val_score(lr, X_train_sc, y_train).mean()"
   ]
  },
  {
   "cell_type": "code",
   "execution_count": null,
   "metadata": {},
   "outputs": [],
   "source": []
  },
  {
   "cell_type": "code",
   "execution_count": null,
   "metadata": {},
   "outputs": [],
   "source": []
  },
  {
   "cell_type": "code",
   "execution_count": null,
   "metadata": {},
   "outputs": [],
   "source": []
  },
  {
   "cell_type": "code",
   "execution_count": null,
   "metadata": {},
   "outputs": [],
   "source": []
  },
  {
   "cell_type": "code",
   "execution_count": 16,
   "metadata": {},
   "outputs": [],
   "source": [
    "#Log transformation of target variable\n",
    "y_train_log = np.log(y_train)\n",
    "y_test_log = np.log(y_test)"
   ]
  },
  {
   "cell_type": "code",
   "execution_count": null,
   "metadata": {},
   "outputs": [],
   "source": []
  },
  {
   "cell_type": "markdown",
   "metadata": {},
   "source": [
    "#### Grid Search with ElasticNet "
   ]
  },
  {
   "cell_type": "code",
   "execution_count": 17,
   "metadata": {},
   "outputs": [
    {
     "name": "stdout",
     "output_type": "stream",
     "text": [
      "Fitting 5 folds for each of 25 candidates, totalling 125 fits\n"
     ]
    },
    {
     "name": "stderr",
     "output_type": "stream",
     "text": [
      "[Parallel(n_jobs=1)]: Using backend SequentialBackend with 1 concurrent workers.\n",
      "/opt/anaconda3/lib/python3.7/site-packages/sklearn/linear_model/_coordinate_descent.py:476: ConvergenceWarning: Objective did not converge. You might want to increase the number of iterations. Duality gap: 8.982974562396434, tolerance: 0.020140795219864904\n",
      "  positive)\n",
      "/opt/anaconda3/lib/python3.7/site-packages/sklearn/linear_model/_coordinate_descent.py:476: ConvergenceWarning: Objective did not converge. You might want to increase the number of iterations. Duality gap: 8.40299199598931, tolerance: 0.020644328783561684\n",
      "  positive)\n",
      "/opt/anaconda3/lib/python3.7/site-packages/sklearn/linear_model/_coordinate_descent.py:476: ConvergenceWarning: Objective did not converge. You might want to increase the number of iterations. Duality gap: 9.810182642531327, tolerance: 0.0212767728672728\n",
      "  positive)\n",
      "/opt/anaconda3/lib/python3.7/site-packages/sklearn/linear_model/_coordinate_descent.py:476: ConvergenceWarning: Objective did not converge. You might want to increase the number of iterations. Duality gap: 9.622934683967843, tolerance: 0.02124240087173546\n",
      "  positive)\n",
      "/opt/anaconda3/lib/python3.7/site-packages/sklearn/linear_model/_coordinate_descent.py:476: ConvergenceWarning: Objective did not converge. You might want to increase the number of iterations. Duality gap: 9.518208968741654, tolerance: 0.020616235420336228\n",
      "  positive)\n",
      "/opt/anaconda3/lib/python3.7/site-packages/sklearn/linear_model/_coordinate_descent.py:476: ConvergenceWarning: Objective did not converge. You might want to increase the number of iterations. Duality gap: 11.090288173028416, tolerance: 0.020140795219864904\n",
      "  positive)\n",
      "/opt/anaconda3/lib/python3.7/site-packages/sklearn/linear_model/_coordinate_descent.py:476: ConvergenceWarning: Objective did not converge. You might want to increase the number of iterations. Duality gap: 10.473422118775508, tolerance: 0.020644328783561684\n",
      "  positive)\n",
      "/opt/anaconda3/lib/python3.7/site-packages/sklearn/linear_model/_coordinate_descent.py:476: ConvergenceWarning: Objective did not converge. You might want to increase the number of iterations. Duality gap: 12.075407238863438, tolerance: 0.0212767728672728\n",
      "  positive)\n",
      "/opt/anaconda3/lib/python3.7/site-packages/sklearn/linear_model/_coordinate_descent.py:476: ConvergenceWarning: Objective did not converge. You might want to increase the number of iterations. Duality gap: 11.76519422834046, tolerance: 0.02124240087173546\n",
      "  positive)\n",
      "/opt/anaconda3/lib/python3.7/site-packages/sklearn/linear_model/_coordinate_descent.py:476: ConvergenceWarning: Objective did not converge. You might want to increase the number of iterations. Duality gap: 11.645796597093755, tolerance: 0.020616235420336228\n",
      "  positive)\n",
      "/opt/anaconda3/lib/python3.7/site-packages/sklearn/linear_model/_coordinate_descent.py:476: ConvergenceWarning: Objective did not converge. You might want to increase the number of iterations. Duality gap: 12.835744966766928, tolerance: 0.020140795219864904\n",
      "  positive)\n",
      "/opt/anaconda3/lib/python3.7/site-packages/sklearn/linear_model/_coordinate_descent.py:476: ConvergenceWarning: Objective did not converge. You might want to increase the number of iterations. Duality gap: 12.194056360244677, tolerance: 0.020644328783561684\n",
      "  positive)\n",
      "/opt/anaconda3/lib/python3.7/site-packages/sklearn/linear_model/_coordinate_descent.py:476: ConvergenceWarning: Objective did not converge. You might want to increase the number of iterations. Duality gap: 13.934222291258326, tolerance: 0.0212767728672728\n",
      "  positive)\n",
      "/opt/anaconda3/lib/python3.7/site-packages/sklearn/linear_model/_coordinate_descent.py:476: ConvergenceWarning: Objective did not converge. You might want to increase the number of iterations. Duality gap: 13.54097942012407, tolerance: 0.02124240087173546\n",
      "  positive)\n",
      "/opt/anaconda3/lib/python3.7/site-packages/sklearn/linear_model/_coordinate_descent.py:476: ConvergenceWarning: Objective did not converge. You might want to increase the number of iterations. Duality gap: 13.412720949366882, tolerance: 0.020616235420336228\n",
      "  positive)\n",
      "/opt/anaconda3/lib/python3.7/site-packages/sklearn/linear_model/_coordinate_descent.py:476: ConvergenceWarning: Objective did not converge. You might want to increase the number of iterations. Duality gap: 16.498224245920895, tolerance: 0.020140795219864904\n",
      "  positive)\n",
      "/opt/anaconda3/lib/python3.7/site-packages/sklearn/linear_model/_coordinate_descent.py:476: ConvergenceWarning: Objective did not converge. You might want to increase the number of iterations. Duality gap: 15.826301573041821, tolerance: 0.020644328783561684\n",
      "  positive)\n",
      "/opt/anaconda3/lib/python3.7/site-packages/sklearn/linear_model/_coordinate_descent.py:476: ConvergenceWarning: Objective did not converge. You might want to increase the number of iterations. Duality gap: 17.81390897434228, tolerance: 0.0212767728672728\n",
      "  positive)\n",
      "/opt/anaconda3/lib/python3.7/site-packages/sklearn/linear_model/_coordinate_descent.py:476: ConvergenceWarning: Objective did not converge. You might want to increase the number of iterations. Duality gap: 17.285536184654838, tolerance: 0.02124240087173546\n",
      "  positive)\n",
      "/opt/anaconda3/lib/python3.7/site-packages/sklearn/linear_model/_coordinate_descent.py:476: ConvergenceWarning: Objective did not converge. You might want to increase the number of iterations. Duality gap: 17.13544428979491, tolerance: 0.020616235420336228\n",
      "  positive)\n",
      "/opt/anaconda3/lib/python3.7/site-packages/sklearn/linear_model/_coordinate_descent.py:476: ConvergenceWarning: Objective did not converge. You might want to increase the number of iterations. Duality gap: 34.9141978396011, tolerance: 0.020140795219864904\n",
      "  positive)\n",
      "/opt/anaconda3/lib/python3.7/site-packages/sklearn/linear_model/_coordinate_descent.py:476: ConvergenceWarning: Objective did not converge. You might want to increase the number of iterations. Duality gap: 34.38213076582481, tolerance: 0.020644328783561684\n",
      "  positive)\n",
      "/opt/anaconda3/lib/python3.7/site-packages/sklearn/linear_model/_coordinate_descent.py:476: ConvergenceWarning: Objective did not converge. You might want to increase the number of iterations. Duality gap: 37.11034297906113, tolerance: 0.0212767728672728\n",
      "  positive)\n",
      "/opt/anaconda3/lib/python3.7/site-packages/sklearn/linear_model/_coordinate_descent.py:476: ConvergenceWarning: Objective did not converge. You might want to increase the number of iterations. Duality gap: 36.273520468598946, tolerance: 0.02124240087173546\n",
      "  positive)\n",
      "/opt/anaconda3/lib/python3.7/site-packages/sklearn/linear_model/_coordinate_descent.py:476: ConvergenceWarning: Objective did not converge. You might want to increase the number of iterations. Duality gap: 35.93490281239988, tolerance: 0.020616235420336228\n",
      "  positive)\n",
      "[Parallel(n_jobs=1)]: Done 125 out of 125 | elapsed:    1.8s finished\n",
      "/opt/anaconda3/lib/python3.7/site-packages/sklearn/linear_model/_coordinate_descent.py:476: ConvergenceWarning: Objective did not converge. You might want to increase the number of iterations. Duality gap: 11.721839514471297, tolerance: 0.02598483901642454\n",
      "  positive)\n"
     ]
    },
    {
     "data": {
      "text/plain": [
       "GridSearchCV(cv=5, error_score=nan,\n",
       "             estimator=ElasticNet(alpha=1.0, copy_X=True, fit_intercept=True,\n",
       "                                  l1_ratio=0.5, max_iter=1000, normalize=False,\n",
       "                                  positive=False, precompute=False,\n",
       "                                  random_state=None, selection='cyclic',\n",
       "                                  tol=0.0001, warm_start=False),\n",
       "             iid='deprecated', n_jobs=None,\n",
       "             param_grid={'alpha': [0.1, 0.3, 0.5, 1, 5],\n",
       "                         'l1_ratio': [0, 0.3, 0.5, 0.7, 1]},\n",
       "             pre_dispatch='2*n_jobs', refit=True, return_train_score=False,\n",
       "             scoring=None, verbose=1)"
      ]
     },
     "execution_count": 17,
     "metadata": {},
     "output_type": "execute_result"
    }
   ],
   "source": [
    "#Specify desired values to try for each hyperparameter\n",
    "param_grid_1 = {\n",
    "    'alpha': [.1,.3,.5,1,5],\n",
    "    'l1_ratio':[0,.3,.5,.7,1]\n",
    "}\n",
    "\n",
    "#Instantiate GridSearchCV with ElasticNet, the parameter values, and 5-fold CV.\n",
    "gs = GridSearchCV(ElasticNet(),param_grid_1,cv=5,verbose=1)\n",
    "\n",
    "#Fitting with the scaled X_train and the transformed y_train\n",
    "gs.fit(X_train_sc,y_train_log)"
   ]
  },
  {
   "cell_type": "code",
   "execution_count": 18,
   "metadata": {},
   "outputs": [
    {
     "data": {
      "text/plain": [
       "{'alpha': 0.1, 'l1_ratio': 0}"
      ]
     },
     "execution_count": 18,
     "metadata": {},
     "output_type": "execute_result"
    }
   ],
   "source": [
    "#Returns the best parameters\n",
    "gs.best_params_"
   ]
  },
  {
   "cell_type": "code",
   "execution_count": 19,
   "metadata": {},
   "outputs": [
    {
     "data": {
      "text/plain": [
       "0.911940826915367"
      ]
     },
     "execution_count": 19,
     "metadata": {},
     "output_type": "execute_result"
    }
   ],
   "source": [
    "#Returns the R2 score of the best parameters\n",
    "gs.best_score_"
   ]
  },
  {
   "cell_type": "code",
   "execution_count": 33,
   "metadata": {},
   "outputs": [
    {
     "data": {
      "text/plain": [
       "0.9199551134639071"
      ]
     },
     "execution_count": 33,
     "metadata": {},
     "output_type": "execute_result"
    }
   ],
   "source": [
    "gs.score(X_train_sc, y_train_log)"
   ]
  },
  {
   "cell_type": "code",
   "execution_count": 20,
   "metadata": {},
   "outputs": [
    {
     "data": {
      "text/plain": [
       "0.9244881477347306"
      ]
     },
     "execution_count": 20,
     "metadata": {},
     "output_type": "execute_result"
    }
   ],
   "source": [
    "gs.score(X_test_sc,y_test_log)"
   ]
  },
  {
   "cell_type": "code",
   "execution_count": 21,
   "metadata": {},
   "outputs": [
    {
     "data": {
      "text/plain": [
       "Gr Liv Area                     0.051849\n",
       "1st Flr SF                      0.042309\n",
       "Overall Cond                    0.040974\n",
       "Overall Qual                    0.040016\n",
       "Overall Qual Gr Liv Area        0.031786\n",
       "Total Bsmt SF                   0.031779\n",
       "Functional                     -0.024489\n",
       "2nd Flr SF                      0.022705\n",
       "Overall Qual^2                  0.021749\n",
       "BsmtFin SF 1                    0.021322\n",
       "Central Air_Y                   0.020835\n",
       "Year Built                      0.020572\n",
       "MS Zoning_RL                    0.020376\n",
       "Lot Area                        0.019565\n",
       "Fireplaces                      0.018857\n",
       "Paved Drive                     0.018759\n",
       "MS SubClass_30                 -0.017787\n",
       "Neighborhood_dummies_NridgHt    0.017409\n",
       "Neighborhood_dummies_IDOTRR    -0.016745\n",
       "Year Remod/Add                  0.015459\n",
       "Neighborhood_dummies_MeadowV   -0.014906\n",
       "MS Zoning_FV                    0.014787\n",
       "Foundation_PConc                0.014338\n",
       "Sale Type_New                   0.014203\n",
       "MS SubClass_160                -0.013975\n",
       "Name: Coefficients, dtype: float64"
      ]
     },
     "execution_count": 21,
     "metadata": {},
     "output_type": "execute_result"
    }
   ],
   "source": [
    "#creates table of all feature variables and their model coefficients\n",
    "coef_table = pd.DataFrame(gs.best_estimator_.coef_, index=X_train.columns, columns=['Coefficients'])\n",
    "#creates column with coefficient magnitudes\n",
    "coef_table['Magnitude']=abs(coef_table['Coefficients'])\n",
    "#sorts features by coefficient magnitude (i.e.; predictive power) and shows top 25 most influential features\n",
    "coef_table.sort_values('Magnitude',ascending=False).head(25)['Coefficients']"
   ]
  },
  {
   "cell_type": "code",
   "execution_count": null,
   "metadata": {},
   "outputs": [],
   "source": []
  },
  {
   "cell_type": "markdown",
   "metadata": {},
   "source": [
    "### Model Selection "
   ]
  },
  {
   "cell_type": "code",
   "execution_count": null,
   "metadata": {},
   "outputs": [],
   "source": []
  },
  {
   "cell_type": "markdown",
   "metadata": {},
   "source": [
    "### Model Evaluation"
   ]
  },
  {
   "cell_type": "code",
   "execution_count": 34,
   "metadata": {},
   "outputs": [
    {
     "data": {
      "image/png": "[encoded data removed]",
      "text/plain": [
       "<Figure size 720x576 with 1 Axes>"
      ]
     },
     "metadata": {
      "needs_background": "light"
     },
     "output_type": "display_data"
    }
   ],
   "source": [
    "#Generates a list of the model's predictions for the test bloc\n",
    "preds = gs.predict(X_test_sc)\n",
    "\n",
    "#Plots predicted values against actual values in the train/test split.\n",
    "plt.figure(figsize=(10,8))\n",
    "plt.scatter(np.exp(preds), y_test, marker = '+')\n",
    "plt.xlabel('Predicted values')\n",
    "plt.ylabel('Actual values')\n",
    "\n",
    "#Plots x=y line\n",
    "plt.plot([0,np.max(y_test)],[0,np.max(y_test)], c = 'orange');"
   ]
  },
  {
   "cell_type": "code",
   "execution_count": 23,
   "metadata": {},
   "outputs": [
    {
     "name": "stderr",
     "output_type": "stream",
     "text": [
      "/opt/anaconda3/lib/python3.7/site-packages/sklearn/linear_model/_coordinate_descent.py:476: ConvergenceWarning: Objective did not converge. You might want to increase the number of iterations. Duality gap: 15.289850693215952, tolerance: 0.03459446283791787\n",
      "  positive)\n"
     ]
    },
    {
     "data": {
      "text/plain": [
       "0.922974032211219"
      ]
     },
     "execution_count": 23,
     "metadata": {},
     "output_type": "execute_result"
    }
   ],
   "source": [
    "#Initializes model for whole training set\n",
    "gs_full_trainset = gs.best_estimator_\n",
    "#Applies StandardScaler normalization to whole training set\n",
    "X_sc = ss.fit_transform(df)\n",
    "\n",
    "#Log transformation of sale price for whole training set\n",
    "y_log = np.log(y)\n",
    "\n",
    "#Re-fits the model\n",
    "gs_full_trainset.fit(X_sc, y_log)\n",
    "#Scores the model (training score only, of course)\n",
    "gs_full_trainset.score(X_sc, y_log)"
   ]
  },
  {
   "cell_type": "markdown",
   "metadata": {},
   "source": [
    "## Kaggle Submission "
   ]
  },
  {
   "cell_type": "code",
   "execution_count": 24,
   "metadata": {},
   "outputs": [
    {
     "data": {
      "text/plain": [
       "(2045, 84)"
      ]
     },
     "execution_count": 24,
     "metadata": {},
     "output_type": "execute_result"
    }
   ],
   "source": [
    "df.shape"
   ]
  },
  {
   "cell_type": "code",
   "execution_count": 25,
   "metadata": {},
   "outputs": [
    {
     "data": {
      "text/html": [
       "<div>\n",
       "<style scoped>\n",
       "    .dataframe tbody tr th:only-of-type {\n",
       "        vertical-align: middle;\n",
       "    }\n",
       "\n",
       "    .dataframe tbody tr th {\n",
       "        vertical-align: top;\n",
       "    }\n",
       "\n",
       "    .dataframe thead th {\n",
       "        text-align: right;\n",
       "    }\n",
       "</style>\n",
       "<table border=\"1\" class=\"dataframe\">\n",
       "  <thead>\n",
       "    <tr style=\"text-align: right;\">\n",
       "      <th></th>\n",
       "      <th>Id</th>\n",
       "      <th>SalePrice</th>\n",
       "    </tr>\n",
       "  </thead>\n",
       "  <tbody>\n",
       "    <tr>\n",
       "      <th>0</th>\n",
       "      <td>2658</td>\n",
       "      <td>135688.454437</td>\n",
       "    </tr>\n",
       "    <tr>\n",
       "      <th>1</th>\n",
       "      <td>2718</td>\n",
       "      <td>144311.490797</td>\n",
       "    </tr>\n",
       "    <tr>\n",
       "      <th>2</th>\n",
       "      <td>2414</td>\n",
       "      <td>199978.564978</td>\n",
       "    </tr>\n",
       "    <tr>\n",
       "      <th>3</th>\n",
       "      <td>1989</td>\n",
       "      <td>93200.112531</td>\n",
       "    </tr>\n",
       "    <tr>\n",
       "      <th>4</th>\n",
       "      <td>625</td>\n",
       "      <td>165718.184213</td>\n",
       "    </tr>\n",
       "  </tbody>\n",
       "</table>\n",
       "</div>"
      ],
      "text/plain": [
       "     Id      SalePrice\n",
       "0  2658  135688.454437\n",
       "1  2718  144311.490797\n",
       "2  2414  199978.564978\n",
       "3  1989   93200.112531\n",
       "4   625  165718.184213"
      ]
     },
     "execution_count": 25,
     "metadata": {},
     "output_type": "execute_result"
    }
   ],
   "source": [
    "#Load in the Kaggle test set with cleaning changes applied\n",
    "test = pd.read_csv('datasets/test_cleaned_by_mr_clean.csv')\n",
    "\n",
    "#Drops Id column like we did earlier to the training set.  \n",
    "#Recall that there is no SalePrice info in the test set.\n",
    "test.drop('Id',axis=1,inplace=True)\n",
    "\n",
    "#Apply feature engineering changes to test set (This layout allows easy iterative manipulation)\n",
    "def apply_changes_test(df):\n",
    "    df['Overall Qual Gr Liv Area'] = df['Overall Qual'] * df['Gr Liv Area']\n",
    "    df['Overall Qual^2'] = df['Overall Qual'] * df['Overall Qual']\n",
    "    df['Bathroom Total'] = df['Full Bath'] + (0.5 * df['Half Bath'])\n",
    "\n",
    "apply_changes_test(test)\n",
    "\n",
    "#Apply feature elimination changes to test set\n",
    "test = test[features_keep]\n",
    "test.drop(['Exterior 1st_CemntBd', 'Foundation_CBlock', 'Electrical',\n",
    "            'Exterior 2nd_HdBoard', 'Exterior 1st_MetalSd', 'Neighborhood_dummies_Sawyer',\n",
    "            'House Style_2Story', 'MS SubClass_50','Roof Style_Hip', \n",
    "            'Mas Vnr Type_BrkFace','MS SubClass_60','Foundation_Slab','Exterior 2nd_CmentBd',\n",
    "            'Bedroom AbvGr','Lot Shape','Exterior 2nd_MetalSd','Garage Type_BuiltIn',\n",
    "            'Neighborhood_dummies_BrkSide','Neighborhood_dummies_NAmes'], axis=1,inplace=True)\n",
    "\n",
    "# common_cols = [columns for columns in set(test.columns).intersection(df.columns)]\n",
    "# test = test[common_cols]\n",
    "\n",
    "#Scale test set\n",
    "test_sc = ss.transform(test)\n",
    "\n",
    "#Generate model predictions for test set\n",
    "predictions = gs_full_trainset.predict(test_sc)\n",
    "predictions = np.exp(predictions)\n",
    "\n",
    "#Create submission csv in proper format\n",
    "test['SalePrice'] = predictions\n",
    "testfile = pd.read_csv('datasets/test_cleaned_by_mr_clean.csv')\n",
    "test['Id'] = testfile['Id']\n",
    "submission = test[['Id','SalePrice']]\n",
    "submission.to_csv('./datasets/kaggle_submission.csv',index=False)\n",
    "\n",
    "#View submission\n",
    "submission.head()"
   ]
  },
  {
   "cell_type": "code",
   "execution_count": 26,
   "metadata": {},
   "outputs": [
    {
     "data": {
      "text/plain": [
       "(2045, 84)"
      ]
     },
     "execution_count": 26,
     "metadata": {},
     "output_type": "execute_result"
    }
   ],
   "source": [
    "df.shape"
   ]
  },
  {
   "cell_type": "code",
   "execution_count": 27,
   "metadata": {},
   "outputs": [
    {
     "name": "stdout",
     "output_type": "stream",
     "text": [
      "<class 'pandas.core.frame.DataFrame'>\n",
      "RangeIndex: 878 entries, 0 to 877\n",
      "Data columns (total 86 columns):\n",
      " #   Column                        Non-Null Count  Dtype  \n",
      "---  ------                        --------------  -----  \n",
      " 0   Overall Qual Gr Liv Area      878 non-null    int64  \n",
      " 1   Overall Qual^2                878 non-null    int64  \n",
      " 2   Overall Qual                  878 non-null    int64  \n",
      " 3   Gr Liv Area                   878 non-null    int64  \n",
      " 4   Exter Qual 2                  878 non-null    int64  \n",
      " 5   Exter Qual                    878 non-null    int64  \n",
      " 6   Kitchen Qual                  878 non-null    int64  \n",
      " 7   Kitchen Qual 2                878 non-null    int64  \n",
      " 8   Total Bsmt SF                 878 non-null    int64  \n",
      " 9   Garage Area                   878 non-null    int64  \n",
      " 10  1st Flr SF                    878 non-null    int64  \n",
      " 11  Garage Cars                   878 non-null    int64  \n",
      " 12  Bsmt Qual                     878 non-null    float64\n",
      " 13  Bathroom Total                878 non-null    float64\n",
      " 14  Year Built                    878 non-null    int64  \n",
      " 15  Garage Finish                 878 non-null    int64  \n",
      " 16  Garage Yr Blt                 878 non-null    float64\n",
      " 17  Year Remod/Add                878 non-null    int64  \n",
      " 18  Full Bath                     878 non-null    int64  \n",
      " 19  Foundation_PConc              878 non-null    int64  \n",
      " 20  Mas Vnr Area                  878 non-null    float64\n",
      " 21  TotRms AbvGrd                 878 non-null    int64  \n",
      " 22  Fireplaces                    878 non-null    int64  \n",
      " 23  Neighborhood_dummies_NridgHt  878 non-null    int64  \n",
      " 24  BsmtFin SF 1                  878 non-null    int64  \n",
      " 25  Heating QC                    878 non-null    int64  \n",
      " 26  Bsmt Exposure                 878 non-null    int64  \n",
      " 27  Garage Type_Detchd            878 non-null    int64  \n",
      " 28  Sale Type_New                 878 non-null    int64  \n",
      " 29  BsmtFin Type 1                878 non-null    float64\n",
      " 30  Garage Type_Attchd            878 non-null    int64  \n",
      " 31  Exterior 1st_VinylSd          878 non-null    int64  \n",
      " 32  Exterior 2nd_VinylSd          878 non-null    int64  \n",
      " 33  Open Porch SF                 878 non-null    int64  \n",
      " 34  Wood Deck SF                  878 non-null    int64  \n",
      " 35  Mas Vnr Type_Stone            878 non-null    int64  \n",
      " 36  Lot Area                      878 non-null    int64  \n",
      " 37  Paved Drive                   878 non-null    int64  \n",
      " 38  Bsmt Full Bath                878 non-null    int64  \n",
      " 39  Half Bath                     878 non-null    int64  \n",
      " 40  MS Zoning_RM                  878 non-null    int64  \n",
      " 41  Central Air_Y                 878 non-null    int64  \n",
      " 42  Garage Qual                   878 non-null    float64\n",
      " 43  Neighborhood_dummies_NoRidge  878 non-null    int64  \n",
      " 44  Neighborhood_dummies_StoneBr  878 non-null    int64  \n",
      " 45  PID                           878 non-null    int64  \n",
      " 46  Garage Cond                   878 non-null    float64\n",
      " 47  Roof Style_Gable              878 non-null    int64  \n",
      " 48  2nd Flr SF                    878 non-null    int64  \n",
      " 49  MS SubClass_30                878 non-null    int64  \n",
      " 50  Garage Type_None              878 non-null    int64  \n",
      " 51  MS Zoning_RL                  878 non-null    int64  \n",
      " 52  Sale Type_WD                  878 non-null    int64  \n",
      " 53  Land Contour_HLS              878 non-null    int64  \n",
      " 54  Bsmt Cond                     878 non-null    float64\n",
      " 55  Neighborhood_dummies_OldTown  878 non-null    int64  \n",
      " 56  Exterior 1st_Wd Sdng          878 non-null    int64  \n",
      " 57  Bsmt Unf SF                   878 non-null    int64  \n",
      " 58  Neighborhood_dummies_IDOTRR   878 non-null    int64  \n",
      " 59  Neighborhood_dummies_Edwards  878 non-null    int64  \n",
      " 60  Exterior 2nd_Wd Sdng          878 non-null    int64  \n",
      " 61  Lot Config_CulDSac            878 non-null    int64  \n",
      " 62  Neighborhood_dummies_Somerst  878 non-null    int64  \n",
      " 63  Enclosed Porch                878 non-null    int64  \n",
      " 64  Screen Porch                  878 non-null    int64  \n",
      " 65  Functional                    878 non-null    int64  \n",
      " 66  Kitchen AbvGr                 878 non-null    int64  \n",
      " 67  Neighborhood_dummies_Timber   878 non-null    int64  \n",
      " 68  MS SubClass_160               878 non-null    int64  \n",
      " 69  Exterior 1st_HdBoard          878 non-null    int64  \n",
      " 70  Bldg Type_Twnhs               878 non-null    int64  \n",
      " 71  Condition 1_Feedr             878 non-null    int64  \n",
      " 72  Neighborhood_dummies_MeadowV  878 non-null    int64  \n",
      " 73  Bldg Type_2fmCon              878 non-null    int64  \n",
      " 74  Condition 1_Norm              878 non-null    int64  \n",
      " 75  MS SubClass_190               878 non-null    int64  \n",
      " 76  Condition 1_PosN              878 non-null    int64  \n",
      " 77  MS Zoning_FV                  878 non-null    int64  \n",
      " 78  MS SubClass_90                878 non-null    int64  \n",
      " 79  Bldg Type_Duplex              878 non-null    int64  \n",
      " 80  Condition 2_PosA              878 non-null    int64  \n",
      " 81  MS SubClass_120               878 non-null    int64  \n",
      " 82  Roof Matl_WdShngl             878 non-null    int64  \n",
      " 83  Overall Cond                  878 non-null    int64  \n",
      " 84  SalePrice                     878 non-null    float64\n",
      " 85  Id                            878 non-null    int64  \n",
      "dtypes: float64(9), int64(77)\n",
      "memory usage: 590.0 KB\n"
     ]
    }
   ],
   "source": [
    "test.info()"
   ]
  },
  {
   "cell_type": "code",
   "execution_count": 28,
   "metadata": {},
   "outputs": [],
   "source": [
    "lr_predictions = lr.predict(test_sc)\n",
    "test['SalePrice'] = predictions\n",
    "testfile = pd.read_csv('datasets/test_cleaned_by_mr_clean.csv')\n",
    "test['Id'] = testfile['Id']\n",
    "submission = test[['Id','SalePrice']]\n",
    "submission.to_csv('./datasets/kaggle_submission2.csv',index=False)\n"
   ]
  },
  {
   "cell_type": "code",
   "execution_count": 29,
   "metadata": {},
   "outputs": [
    {
     "data": {
      "text/html": [
       "<div>\n",
       "<style scoped>\n",
       "    .dataframe tbody tr th:only-of-type {\n",
       "        vertical-align: middle;\n",
       "    }\n",
       "\n",
       "    .dataframe tbody tr th {\n",
       "        vertical-align: top;\n",
       "    }\n",
       "\n",
       "    .dataframe thead th {\n",
       "        text-align: right;\n",
       "    }\n",
       "</style>\n",
       "<table border=\"1\" class=\"dataframe\">\n",
       "  <thead>\n",
       "    <tr style=\"text-align: right;\">\n",
       "      <th></th>\n",
       "      <th>Id</th>\n",
       "      <th>SalePrice</th>\n",
       "    </tr>\n",
       "  </thead>\n",
       "  <tbody>\n",
       "    <tr>\n",
       "      <th>0</th>\n",
       "      <td>2658</td>\n",
       "      <td>135688.454437</td>\n",
       "    </tr>\n",
       "    <tr>\n",
       "      <th>1</th>\n",
       "      <td>2718</td>\n",
       "      <td>144311.490797</td>\n",
       "    </tr>\n",
       "    <tr>\n",
       "      <th>2</th>\n",
       "      <td>2414</td>\n",
       "      <td>199978.564978</td>\n",
       "    </tr>\n",
       "    <tr>\n",
       "      <th>3</th>\n",
       "      <td>1989</td>\n",
       "      <td>93200.112531</td>\n",
       "    </tr>\n",
       "    <tr>\n",
       "      <th>4</th>\n",
       "      <td>625</td>\n",
       "      <td>165718.184213</td>\n",
       "    </tr>\n",
       "  </tbody>\n",
       "</table>\n",
       "</div>"
      ],
      "text/plain": [
       "     Id      SalePrice\n",
       "0  2658  135688.454437\n",
       "1  2718  144311.490797\n",
       "2  2414  199978.564978\n",
       "3  1989   93200.112531\n",
       "4   625  165718.184213"
      ]
     },
     "execution_count": 29,
     "metadata": {},
     "output_type": "execute_result"
    }
   ],
   "source": [
    "submission.head()"
   ]
  },
  {
   "cell_type": "markdown",
   "metadata": {},
   "source": [
    "## Conclusion and Recommendations"
   ]
  },
  {
   "cell_type": "markdown",
   "metadata": {},
   "source": [
    "## References "
   ]
  },
  {
   "cell_type": "markdown",
   "metadata": {},
   "source": [
    "|                | Baseline Linear Regression | GridSearch with ElasticNet | Grid with ElasticNet, log Transformed Y  |\n",
    "|----------------|----------------------------|----------------------------|------------------------------------------|\n",
    "| Train R2 score | 0.9399                     | 0.9334                     | 0.9199                                   |\n",
    "| Test R2 score  | 0.9284                     | 0.9194                     | 0.9244                                   |"
   ]
  },
  {
   "cell_type": "code",
   "execution_count": null,
   "metadata": {},
   "outputs": [],
   "source": []
  }
 ],
 "metadata": {
  "kernelspec": {
   "display_name": "Python 3",
   "language": "python",
   "name": "python3"
  },
  "language_info": {
   "codemirror_mode": {
    "name": "ipython",
    "version": 3
   },
   "file_extension": ".py",
   "mimetype": "text/x-python",
   "name": "python",
   "nbconvert_exporter": "python",
   "pygments_lexer": "ipython3",
   "version": "3.7.6"
  }
 },
 "nbformat": 4,
 "nbformat_minor": 4
}
